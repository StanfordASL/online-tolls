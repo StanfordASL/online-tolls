{
 "cells": [
  {
   "cell_type": "markdown",
   "id": "c13585ad",
   "metadata": {},
   "source": [
    "## Piece-wise linear approximation to the BPR function"
   ]
  },
  {
   "cell_type": "code",
   "execution_count": 1,
   "id": "ae461bb8",
   "metadata": {},
   "outputs": [],
   "source": [
    "import numpy as np\n",
    "import matplotlib.pyplot as plt"
   ]
  },
  {
   "cell_type": "code",
   "execution_count": 2,
   "id": "ff41eff7",
   "metadata": {},
   "outputs": [],
   "source": [
    "def bpr(x, t0, c):\n",
    "    y = [ t0*(1 + 0.15*(el/c)**4) for el in x]\n",
    "    return y"
   ]
  },
  {
   "cell_type": "code",
   "execution_count": 3,
   "id": "7f49986e",
   "metadata": {},
   "outputs": [],
   "source": [
    "def piecewise_approx(x, t0, c):\n",
    "    y = []\n",
    "    for el in x:\n",
    "        if el < 1.1*c:\n",
    "            y.append(1.025*t0)\n",
    "        else:\n",
    "            y.append(1.025*t0 + (el - 1.1*c)*0.6)\n",
    "    return y"
   ]
  },
  {
   "cell_type": "code",
   "execution_count": 4,
   "id": "af17b7fb",
   "metadata": {},
   "outputs": [],
   "source": [
    "def compare_approximation(t0=None, c=None, fname=None):\n",
    "    \n",
    "    # x coordinates range from o to 2*c in increments of 0.1\n",
    "    x = [0.1 * i for i in range(2*10*c)]\n",
    "    \n",
    "    # true bpr function\n",
    "    y_bpr = bpr(x, t0, c)\n",
    "    \n",
    "    # piecewise linear approximation\n",
    "    y_piecewise = piecewise_approx(x, t0, c)\n",
    "    \n",
    "    # generating figure\n",
    "    plt.rcParams['font.size'] = '16'\n",
    "    plt.figure(figsize=(6, 4), dpi=250)\n",
    "    ax = plt.gca()\n",
    "    \n",
    "    plt.plot(x, y_bpr, label='BPR function')\n",
    "    plt.plot(x, y_piecewise, label='Approximation')\n",
    "    ax.set_xlabel('Flow $x$')\n",
    "    ax.set_ylabel('Latency $l(x)$')\n",
    "    ax.legend(frameon=False, loc='upper left')\n",
    "\n",
    "    plt.tight_layout()\n",
    "    plt.savefig('Results/Figures/' + fname+ '.png', dpi=250)\n",
    "    plt.close()\n"
   ]
  },
  {
   "cell_type": "code",
   "execution_count": 5,
   "id": "e35a54a3",
   "metadata": {},
   "outputs": [],
   "source": [
    "compare_approximation(t0=0.57, c=2, fname='approx1')"
   ]
  },
  {
   "cell_type": "code",
   "execution_count": 6,
   "id": "f294e7a9",
   "metadata": {},
   "outputs": [],
   "source": [
    "compare_approximation(t0=2, c=10, fname='approx2')"
   ]
  },
  {
   "cell_type": "code",
   "execution_count": null,
   "id": "e359aa0a",
   "metadata": {},
   "outputs": [],
   "source": []
  }
 ],
 "metadata": {
  "kernelspec": {
   "display_name": "Python 3 (ipykernel)",
   "language": "python",
   "name": "python3"
  },
  "language_info": {
   "codemirror_mode": {
    "name": "ipython",
    "version": 3
   },
   "file_extension": ".py",
   "mimetype": "text/x-python",
   "name": "python",
   "nbconvert_exporter": "python",
   "pygments_lexer": "ipython3",
   "version": "3.9.7"
  }
 },
 "nbformat": 4,
 "nbformat_minor": 5
}
